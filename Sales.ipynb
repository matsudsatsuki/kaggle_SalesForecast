{
  "nbformat": 4,
  "nbformat_minor": 2,
  "metadata": {
    "colab": {
      "name": "Sales.ipynb",
      "provenance": [],
      "collapsed_sections": []
    },
    "kernelspec": {
      "name": "python3",
      "display_name": "Python 3.8.8 64-bit ('base': conda)"
    },
    "language_info": {
      "name": "python",
      "version": "3.8.8",
      "mimetype": "text/x-python",
      "codemirror_mode": {
        "name": "ipython",
        "version": 3
      },
      "pygments_lexer": "ipython3",
      "nbconvert_exporter": "python",
      "file_extension": ".py"
    },
    "interpreter": {
      "hash": "dca0ade3e726a953b501b15e8e990130d2b7799f14cfd9f4271676035ebe5511"
    }
  },
  "cells": [
    {
      "cell_type": "code",
      "execution_count": 109,
      "source": [
        "import numpy as np\n",
        "import pandas as pd\n",
        "import matplotlib.pyplot as plt\n",
        "import seaborn as sns\n",
        "import pandas_profiling as pp\n",
        "import sweetviz as sv\n",
        "from autoviz.AutoViz_Class import AutoViz_Class\n",
        "from sklearn.impute import SimpleImputer\n",
        "from sklearn.preprocessing import StandardScaler,OneHotEncoder,MinMaxScaler,RobustScaler\n",
        "from sklearn.compose import ColumnTransformer\n",
        "from sklearn.pipeline import Pipeline\n",
        "from sklearn import set_config\n",
        "from sklearn.model_selection import train_test_split\n",
        "from sklearn.model_selection import GridSearchCV,RandomizedSearchCV,ParameterGrid\n",
        "import xgboost as xgb\n",
        "from sklearn.linear_model import LogisticRegression\n",
        "from sklearn.metrics import accuracy_score,f1_score\n",
        "import lightgbm as lgb\n",
        "import optuna\n",
        "from sklearn.preprocessing import LabelEncoder\n",
        "import category_encoders as ce\n",
        "%matplotlib inline\n",
        "plt.style.use('ggplot')"
      ],
      "outputs": [],
      "metadata": {
        "id": "BIsKLc53t3-M"
      }
    },
    {
      "cell_type": "code",
      "execution_count": 32,
      "source": [
        "train_df = pd.read_csv('train.csv')\n",
        "test_df = pd.read_csv('test.csv')\n",
        "oil_data = pd.read_csv('oil.csv')\n",
        "store_data = pd.read_csv('stores.csv')\n",
        "holiday_events = pd.read_csv('holidays_events.csv')\n",
        "transaction_data = pd.read_csv('transactions.csv')\n"
      ],
      "outputs": [],
      "metadata": {
        "id": "TqM1WX8nunT-"
      }
    },
    {
      "cell_type": "code",
      "execution_count": 33,
      "source": [
        "#autoviz = AutoViz_Class().AutoViz('train.csv')"
      ],
      "outputs": [],
      "metadata": {}
    },
    {
      "cell_type": "code",
      "execution_count": 34,
      "source": [
        "#report = sv.DataframeReport(train_df)\n",
        "#report.show_notebook()"
      ],
      "outputs": [],
      "metadata": {}
    },
    {
      "cell_type": "code",
      "execution_count": 110,
      "source": [
        "#pipeline構築\n",
        "num_features = ['onpromotion']\n",
        "cat_features = ['family','store_nbr','day','month','dayofweek','year']\n",
        "\n",
        "numeric_transformer = Pipeline(steps=[\n",
        "    ('imputer',SimpleImputer()),\n",
        "    ('scaler',StandardScaler())\n",
        "])\n",
        "\n",
        "cat_transformer = ce.OneHotEncoder(handle_unknown='ignore')\n",
        "\n",
        "preprocesser = ColumnTransformer(transformers=[\n",
        "    ('num_transform',numeric_transformer,num_features),\n",
        "    ('cat_transform',cat_transformer,cat_features)\n",
        "])\n",
        "\n",
        "pipeline = Pipeline(steps=[\n",
        "    ('preprocesser',preprocesser),\n",
        "    ('regresser',lgb.LGBMRegressor())\n",
        "])\n"
      ],
      "outputs": [],
      "metadata": {}
    },
    {
      "cell_type": "code",
      "execution_count": 111,
      "source": [
        "set_config(display='diagram')\n",
        "pipeline"
      ],
      "outputs": [
        {
          "output_type": "execute_result",
          "data": {
            "text/html": [
              "<style>#sk-85f05805-b8f8-4067-bb75-2061e2a28cef {color: black;background-color: white;}#sk-85f05805-b8f8-4067-bb75-2061e2a28cef pre{padding: 0;}#sk-85f05805-b8f8-4067-bb75-2061e2a28cef div.sk-toggleable {background-color: white;}#sk-85f05805-b8f8-4067-bb75-2061e2a28cef label.sk-toggleable__label {cursor: pointer;display: block;width: 100%;margin-bottom: 0;padding: 0.2em 0.3em;box-sizing: border-box;text-align: center;}#sk-85f05805-b8f8-4067-bb75-2061e2a28cef div.sk-toggleable__content {max-height: 0;max-width: 0;overflow: hidden;text-align: left;background-color: #f0f8ff;}#sk-85f05805-b8f8-4067-bb75-2061e2a28cef div.sk-toggleable__content pre {margin: 0.2em;color: black;border-radius: 0.25em;background-color: #f0f8ff;}#sk-85f05805-b8f8-4067-bb75-2061e2a28cef input.sk-toggleable__control:checked~div.sk-toggleable__content {max-height: 200px;max-width: 100%;overflow: auto;}#sk-85f05805-b8f8-4067-bb75-2061e2a28cef div.sk-estimator input.sk-toggleable__control:checked~label.sk-toggleable__label {background-color: #d4ebff;}#sk-85f05805-b8f8-4067-bb75-2061e2a28cef div.sk-label input.sk-toggleable__control:checked~label.sk-toggleable__label {background-color: #d4ebff;}#sk-85f05805-b8f8-4067-bb75-2061e2a28cef input.sk-hidden--visually {border: 0;clip: rect(1px 1px 1px 1px);clip: rect(1px, 1px, 1px, 1px);height: 1px;margin: -1px;overflow: hidden;padding: 0;position: absolute;width: 1px;}#sk-85f05805-b8f8-4067-bb75-2061e2a28cef div.sk-estimator {font-family: monospace;background-color: #f0f8ff;margin: 0.25em 0.25em;border: 1px dotted black;border-radius: 0.25em;box-sizing: border-box;}#sk-85f05805-b8f8-4067-bb75-2061e2a28cef div.sk-estimator:hover {background-color: #d4ebff;}#sk-85f05805-b8f8-4067-bb75-2061e2a28cef div.sk-parallel-item::after {content: \"\";width: 100%;border-bottom: 1px solid gray;flex-grow: 1;}#sk-85f05805-b8f8-4067-bb75-2061e2a28cef div.sk-label:hover label.sk-toggleable__label {background-color: #d4ebff;}#sk-85f05805-b8f8-4067-bb75-2061e2a28cef div.sk-serial::before {content: \"\";position: absolute;border-left: 1px solid gray;box-sizing: border-box;top: 2em;bottom: 0;left: 50%;}#sk-85f05805-b8f8-4067-bb75-2061e2a28cef div.sk-serial {display: flex;flex-direction: column;align-items: center;background-color: white;}#sk-85f05805-b8f8-4067-bb75-2061e2a28cef div.sk-item {z-index: 1;}#sk-85f05805-b8f8-4067-bb75-2061e2a28cef div.sk-parallel {display: flex;align-items: stretch;justify-content: center;background-color: white;}#sk-85f05805-b8f8-4067-bb75-2061e2a28cef div.sk-parallel-item {display: flex;flex-direction: column;position: relative;background-color: white;}#sk-85f05805-b8f8-4067-bb75-2061e2a28cef div.sk-parallel-item:first-child::after {align-self: flex-end;width: 50%;}#sk-85f05805-b8f8-4067-bb75-2061e2a28cef div.sk-parallel-item:last-child::after {align-self: flex-start;width: 50%;}#sk-85f05805-b8f8-4067-bb75-2061e2a28cef div.sk-parallel-item:only-child::after {width: 0;}#sk-85f05805-b8f8-4067-bb75-2061e2a28cef div.sk-dashed-wrapped {border: 1px dashed gray;margin: 0.2em;box-sizing: border-box;padding-bottom: 0.1em;background-color: white;position: relative;}#sk-85f05805-b8f8-4067-bb75-2061e2a28cef div.sk-label label {font-family: monospace;font-weight: bold;background-color: white;display: inline-block;line-height: 1.2em;}#sk-85f05805-b8f8-4067-bb75-2061e2a28cef div.sk-label-container {position: relative;z-index: 2;text-align: center;}#sk-85f05805-b8f8-4067-bb75-2061e2a28cef div.sk-container {display: inline-block;position: relative;}</style><div id=\"sk-85f05805-b8f8-4067-bb75-2061e2a28cef\" class\"sk-top-container\"><div class=\"sk-container\"><div class=\"sk-item sk-dashed-wrapped\"><div class=\"sk-label-container\"><div class=\"sk-label sk-toggleable\"><input class=\"sk-toggleable__control sk-hidden--visually\" id=\"3d7e7f1c-9502-4af5-ab34-611096b72841\" type=\"checkbox\" ><label class=\"sk-toggleable__label\" for=\"3d7e7f1c-9502-4af5-ab34-611096b72841\">Pipeline</label><div class=\"sk-toggleable__content\"><pre>Pipeline(steps=[('preprocesser',\n",
              "                 ColumnTransformer(transformers=[('num_transform',\n",
              "                                                  Pipeline(steps=[('imputer',\n",
              "                                                                   SimpleImputer()),\n",
              "                                                                  ('scaler',\n",
              "                                                                   StandardScaler())]),\n",
              "                                                  ['onpromotion']),\n",
              "                                                 ('cat_transform',\n",
              "                                                  OneHotEncoder(handle_unknown='ignore'),\n",
              "                                                  ['family', 'store_nbr', 'day',\n",
              "                                                   'month', 'dayofweek',\n",
              "                                                   'year'])])),\n",
              "                ('regresser', LGBMRegressor())])</pre></div></div></div><div class=\"sk-serial\"><div class=\"sk-item sk-dashed-wrapped\"><div class=\"sk-label-container\"><div class=\"sk-label sk-toggleable\"><input class=\"sk-toggleable__control sk-hidden--visually\" id=\"061cf146-18f0-4e85-af2d-f1cd5c5fe8fa\" type=\"checkbox\" ><label class=\"sk-toggleable__label\" for=\"061cf146-18f0-4e85-af2d-f1cd5c5fe8fa\">preprocesser: ColumnTransformer</label><div class=\"sk-toggleable__content\"><pre>ColumnTransformer(transformers=[('num_transform',\n",
              "                                 Pipeline(steps=[('imputer', SimpleImputer()),\n",
              "                                                 ('scaler', StandardScaler())]),\n",
              "                                 ['onpromotion']),\n",
              "                                ('cat_transform',\n",
              "                                 OneHotEncoder(handle_unknown='ignore'),\n",
              "                                 ['family', 'store_nbr', 'day', 'month',\n",
              "                                  'dayofweek', 'year'])])</pre></div></div></div><div class=\"sk-parallel\"><div class=\"sk-parallel-item\"><div class=\"sk-item\"><div class=\"sk-label-container\"><div class=\"sk-label sk-toggleable\"><input class=\"sk-toggleable__control sk-hidden--visually\" id=\"06581f0d-a566-4d3f-bb14-b568f347721b\" type=\"checkbox\" ><label class=\"sk-toggleable__label\" for=\"06581f0d-a566-4d3f-bb14-b568f347721b\">num_transform</label><div class=\"sk-toggleable__content\"><pre>['onpromotion']</pre></div></div></div><div class=\"sk-serial\"><div class=\"sk-item\"><div class=\"sk-serial\"><div class=\"sk-item\"><div class=\"sk-estimator sk-toggleable\"><input class=\"sk-toggleable__control sk-hidden--visually\" id=\"54988187-55fd-4228-92f1-970ec0ecd293\" type=\"checkbox\" ><label class=\"sk-toggleable__label\" for=\"54988187-55fd-4228-92f1-970ec0ecd293\">SimpleImputer</label><div class=\"sk-toggleable__content\"><pre>SimpleImputer()</pre></div></div></div><div class=\"sk-item\"><div class=\"sk-estimator sk-toggleable\"><input class=\"sk-toggleable__control sk-hidden--visually\" id=\"ed9aa7b0-057d-4209-b183-c7bc18ff5038\" type=\"checkbox\" ><label class=\"sk-toggleable__label\" for=\"ed9aa7b0-057d-4209-b183-c7bc18ff5038\">StandardScaler</label><div class=\"sk-toggleable__content\"><pre>StandardScaler()</pre></div></div></div></div></div></div></div></div><div class=\"sk-parallel-item\"><div class=\"sk-item\"><div class=\"sk-label-container\"><div class=\"sk-label sk-toggleable\"><input class=\"sk-toggleable__control sk-hidden--visually\" id=\"3ef2773e-d365-431b-9422-94b93cea6605\" type=\"checkbox\" ><label class=\"sk-toggleable__label\" for=\"3ef2773e-d365-431b-9422-94b93cea6605\">cat_transform</label><div class=\"sk-toggleable__content\"><pre>['family', 'store_nbr', 'day', 'month', 'dayofweek', 'year']</pre></div></div></div><div class=\"sk-serial\"><div class=\"sk-item\"><div class=\"sk-estimator sk-toggleable\"><input class=\"sk-toggleable__control sk-hidden--visually\" id=\"2733479f-bc74-4228-8f6d-cbb800c21d9d\" type=\"checkbox\" ><label class=\"sk-toggleable__label\" for=\"2733479f-bc74-4228-8f6d-cbb800c21d9d\">OneHotEncoder</label><div class=\"sk-toggleable__content\"><pre>OneHotEncoder(handle_unknown='ignore')</pre></div></div></div></div></div></div></div></div><div class=\"sk-item\"><div class=\"sk-estimator sk-toggleable\"><input class=\"sk-toggleable__control sk-hidden--visually\" id=\"df6b7fb2-dafe-4fc8-ae17-d26854c51b65\" type=\"checkbox\" ><label class=\"sk-toggleable__label\" for=\"df6b7fb2-dafe-4fc8-ae17-d26854c51b65\">LGBMRegressor</label><div class=\"sk-toggleable__content\"><pre>LGBMRegressor()</pre></div></div></div></div></div></div></div>"
            ],
            "text/plain": [
              "Pipeline(steps=[('preprocesser',\n",
              "                 ColumnTransformer(transformers=[('num_transform',\n",
              "                                                  Pipeline(steps=[('imputer',\n",
              "                                                                   SimpleImputer()),\n",
              "                                                                  ('scaler',\n",
              "                                                                   StandardScaler())]),\n",
              "                                                  ['onpromotion']),\n",
              "                                                 ('cat_transform',\n",
              "                                                  OneHotEncoder(handle_unknown='ignore'),\n",
              "                                                  ['family', 'store_nbr', 'day',\n",
              "                                                   'month', 'dayofweek',\n",
              "                                                   'year'])])),\n",
              "                ('regresser', LGBMRegressor())])"
            ]
          },
          "metadata": {},
          "execution_count": 111
        }
      ],
      "metadata": {}
    },
    {
      "cell_type": "code",
      "execution_count": 60,
      "source": [
        "#時系列データの変換\n",
        "train_df['date'] = pd.to_datetime(train_df['date'], format=\"%Y-%m-%d %H:%M:%S\")\n",
        "train_df['day'] = train_df['date'].dt.day\n",
        "train_df['month'] = train_df['date'].dt.month\n",
        "train_df['dayofweek'] = train_df['date'].dt.dayofweek\n",
        "train_df['year'] = train_df['date'].dt.year\n",
        "train_df.head() "
      ],
      "outputs": [
        {
          "output_type": "execute_result",
          "data": {
            "text/html": [
              "<div>\n",
              "<style scoped>\n",
              "    .dataframe tbody tr th:only-of-type {\n",
              "        vertical-align: middle;\n",
              "    }\n",
              "\n",
              "    .dataframe tbody tr th {\n",
              "        vertical-align: top;\n",
              "    }\n",
              "\n",
              "    .dataframe thead th {\n",
              "        text-align: right;\n",
              "    }\n",
              "</style>\n",
              "<table border=\"1\" class=\"dataframe\">\n",
              "  <thead>\n",
              "    <tr style=\"text-align: right;\">\n",
              "      <th></th>\n",
              "      <th>id</th>\n",
              "      <th>date</th>\n",
              "      <th>store_nbr</th>\n",
              "      <th>family</th>\n",
              "      <th>sales</th>\n",
              "      <th>onpromotion</th>\n",
              "      <th>day</th>\n",
              "      <th>month</th>\n",
              "      <th>dayofweek</th>\n",
              "      <th>year</th>\n",
              "    </tr>\n",
              "  </thead>\n",
              "  <tbody>\n",
              "    <tr>\n",
              "      <th>0</th>\n",
              "      <td>0</td>\n",
              "      <td>2013-01-01</td>\n",
              "      <td>1</td>\n",
              "      <td>AUTOMOTIVE</td>\n",
              "      <td>0.0</td>\n",
              "      <td>0</td>\n",
              "      <td>1</td>\n",
              "      <td>1</td>\n",
              "      <td>1</td>\n",
              "      <td>2013</td>\n",
              "    </tr>\n",
              "    <tr>\n",
              "      <th>1</th>\n",
              "      <td>1</td>\n",
              "      <td>2013-01-01</td>\n",
              "      <td>1</td>\n",
              "      <td>BABY CARE</td>\n",
              "      <td>0.0</td>\n",
              "      <td>0</td>\n",
              "      <td>1</td>\n",
              "      <td>1</td>\n",
              "      <td>1</td>\n",
              "      <td>2013</td>\n",
              "    </tr>\n",
              "    <tr>\n",
              "      <th>2</th>\n",
              "      <td>2</td>\n",
              "      <td>2013-01-01</td>\n",
              "      <td>1</td>\n",
              "      <td>BEAUTY</td>\n",
              "      <td>0.0</td>\n",
              "      <td>0</td>\n",
              "      <td>1</td>\n",
              "      <td>1</td>\n",
              "      <td>1</td>\n",
              "      <td>2013</td>\n",
              "    </tr>\n",
              "    <tr>\n",
              "      <th>3</th>\n",
              "      <td>3</td>\n",
              "      <td>2013-01-01</td>\n",
              "      <td>1</td>\n",
              "      <td>BEVERAGES</td>\n",
              "      <td>0.0</td>\n",
              "      <td>0</td>\n",
              "      <td>1</td>\n",
              "      <td>1</td>\n",
              "      <td>1</td>\n",
              "      <td>2013</td>\n",
              "    </tr>\n",
              "    <tr>\n",
              "      <th>4</th>\n",
              "      <td>4</td>\n",
              "      <td>2013-01-01</td>\n",
              "      <td>1</td>\n",
              "      <td>BOOKS</td>\n",
              "      <td>0.0</td>\n",
              "      <td>0</td>\n",
              "      <td>1</td>\n",
              "      <td>1</td>\n",
              "      <td>1</td>\n",
              "      <td>2013</td>\n",
              "    </tr>\n",
              "  </tbody>\n",
              "</table>\n",
              "</div>"
            ],
            "text/plain": [
              "   id       date  store_nbr      family  sales  onpromotion  day  month  \\\n",
              "0   0 2013-01-01          1  AUTOMOTIVE    0.0            0    1      1   \n",
              "1   1 2013-01-01          1   BABY CARE    0.0            0    1      1   \n",
              "2   2 2013-01-01          1      BEAUTY    0.0            0    1      1   \n",
              "3   3 2013-01-01          1   BEVERAGES    0.0            0    1      1   \n",
              "4   4 2013-01-01          1       BOOKS    0.0            0    1      1   \n",
              "\n",
              "   dayofweek  year  \n",
              "0          1  2013  \n",
              "1          1  2013  \n",
              "2          1  2013  \n",
              "3          1  2013  \n",
              "4          1  2013  "
            ]
          },
          "metadata": {},
          "execution_count": 60
        }
      ],
      "metadata": {
        "colab": {
          "base_uri": "https://localhost:8080/",
          "height": 204
        },
        "id": "Jpo53d6IzV2A",
        "outputId": "42a33a2a-fc46-418b-bbb5-4047817f82dc"
      }
    },
    {
      "cell_type": "code",
      "execution_count": 112,
      "source": [
        "from sklearn.model_selection import train_test_split\n",
        "X = train_df.drop(columns=['date','id','sales'])\n",
        "y = train_df['sales']\n",
        "y = y.astype('int')\n",
        "X_train,X_test,y_train,y_test = train_test_split(X,y,shuffle=True,test_size=1)"
      ],
      "outputs": [],
      "metadata": {
        "id": "pqihoOrGoEke"
      }
    },
    {
      "cell_type": "code",
      "execution_count": 62,
      "source": [
        "pipeline.fit(X_train,y_train)"
      ],
      "outputs": [
        {
          "output_type": "execute_result",
          "data": {
            "text/html": [
              "<style>#sk-e90239ce-58a0-41a0-a941-7d674e6f5272 {color: black;background-color: white;}#sk-e90239ce-58a0-41a0-a941-7d674e6f5272 pre{padding: 0;}#sk-e90239ce-58a0-41a0-a941-7d674e6f5272 div.sk-toggleable {background-color: white;}#sk-e90239ce-58a0-41a0-a941-7d674e6f5272 label.sk-toggleable__label {cursor: pointer;display: block;width: 100%;margin-bottom: 0;padding: 0.2em 0.3em;box-sizing: border-box;text-align: center;}#sk-e90239ce-58a0-41a0-a941-7d674e6f5272 div.sk-toggleable__content {max-height: 0;max-width: 0;overflow: hidden;text-align: left;background-color: #f0f8ff;}#sk-e90239ce-58a0-41a0-a941-7d674e6f5272 div.sk-toggleable__content pre {margin: 0.2em;color: black;border-radius: 0.25em;background-color: #f0f8ff;}#sk-e90239ce-58a0-41a0-a941-7d674e6f5272 input.sk-toggleable__control:checked~div.sk-toggleable__content {max-height: 200px;max-width: 100%;overflow: auto;}#sk-e90239ce-58a0-41a0-a941-7d674e6f5272 div.sk-estimator input.sk-toggleable__control:checked~label.sk-toggleable__label {background-color: #d4ebff;}#sk-e90239ce-58a0-41a0-a941-7d674e6f5272 div.sk-label input.sk-toggleable__control:checked~label.sk-toggleable__label {background-color: #d4ebff;}#sk-e90239ce-58a0-41a0-a941-7d674e6f5272 input.sk-hidden--visually {border: 0;clip: rect(1px 1px 1px 1px);clip: rect(1px, 1px, 1px, 1px);height: 1px;margin: -1px;overflow: hidden;padding: 0;position: absolute;width: 1px;}#sk-e90239ce-58a0-41a0-a941-7d674e6f5272 div.sk-estimator {font-family: monospace;background-color: #f0f8ff;margin: 0.25em 0.25em;border: 1px dotted black;border-radius: 0.25em;box-sizing: border-box;}#sk-e90239ce-58a0-41a0-a941-7d674e6f5272 div.sk-estimator:hover {background-color: #d4ebff;}#sk-e90239ce-58a0-41a0-a941-7d674e6f5272 div.sk-parallel-item::after {content: \"\";width: 100%;border-bottom: 1px solid gray;flex-grow: 1;}#sk-e90239ce-58a0-41a0-a941-7d674e6f5272 div.sk-label:hover label.sk-toggleable__label {background-color: #d4ebff;}#sk-e90239ce-58a0-41a0-a941-7d674e6f5272 div.sk-serial::before {content: \"\";position: absolute;border-left: 1px solid gray;box-sizing: border-box;top: 2em;bottom: 0;left: 50%;}#sk-e90239ce-58a0-41a0-a941-7d674e6f5272 div.sk-serial {display: flex;flex-direction: column;align-items: center;background-color: white;}#sk-e90239ce-58a0-41a0-a941-7d674e6f5272 div.sk-item {z-index: 1;}#sk-e90239ce-58a0-41a0-a941-7d674e6f5272 div.sk-parallel {display: flex;align-items: stretch;justify-content: center;background-color: white;}#sk-e90239ce-58a0-41a0-a941-7d674e6f5272 div.sk-parallel-item {display: flex;flex-direction: column;position: relative;background-color: white;}#sk-e90239ce-58a0-41a0-a941-7d674e6f5272 div.sk-parallel-item:first-child::after {align-self: flex-end;width: 50%;}#sk-e90239ce-58a0-41a0-a941-7d674e6f5272 div.sk-parallel-item:last-child::after {align-self: flex-start;width: 50%;}#sk-e90239ce-58a0-41a0-a941-7d674e6f5272 div.sk-parallel-item:only-child::after {width: 0;}#sk-e90239ce-58a0-41a0-a941-7d674e6f5272 div.sk-dashed-wrapped {border: 1px dashed gray;margin: 0.2em;box-sizing: border-box;padding-bottom: 0.1em;background-color: white;position: relative;}#sk-e90239ce-58a0-41a0-a941-7d674e6f5272 div.sk-label label {font-family: monospace;font-weight: bold;background-color: white;display: inline-block;line-height: 1.2em;}#sk-e90239ce-58a0-41a0-a941-7d674e6f5272 div.sk-label-container {position: relative;z-index: 2;text-align: center;}#sk-e90239ce-58a0-41a0-a941-7d674e6f5272 div.sk-container {display: inline-block;position: relative;}</style><div id=\"sk-e90239ce-58a0-41a0-a941-7d674e6f5272\" class\"sk-top-container\"><div class=\"sk-container\"><div class=\"sk-item sk-dashed-wrapped\"><div class=\"sk-label-container\"><div class=\"sk-label sk-toggleable\"><input class=\"sk-toggleable__control sk-hidden--visually\" id=\"03b0fe36-c9ae-45f2-9c84-5eccbee1f5c9\" type=\"checkbox\" ><label class=\"sk-toggleable__label\" for=\"03b0fe36-c9ae-45f2-9c84-5eccbee1f5c9\">Pipeline</label><div class=\"sk-toggleable__content\"><pre>Pipeline(steps=[('preprocesser',\n",
              "                 ColumnTransformer(transformers=[('num_transform',\n",
              "                                                  Pipeline(steps=[('imputer',\n",
              "                                                                   SimpleImputer()),\n",
              "                                                                  ('scaler',\n",
              "                                                                   StandardScaler())]),\n",
              "                                                  ['onpromotion']),\n",
              "                                                 ('cat_transform',\n",
              "                                                  OneHotEncoder(handle_unknown='ignore'),\n",
              "                                                  ['family', 'store_nbr', 'day',\n",
              "                                                   'month', 'dayofweek',\n",
              "                                                   'year'])])),\n",
              "                ('regresser', LGBMRegressor())])</pre></div></div></div><div class=\"sk-serial\"><div class=\"sk-item sk-dashed-wrapped\"><div class=\"sk-label-container\"><div class=\"sk-label sk-toggleable\"><input class=\"sk-toggleable__control sk-hidden--visually\" id=\"26092fc0-dc74-4324-b6f9-3b2c46d68919\" type=\"checkbox\" ><label class=\"sk-toggleable__label\" for=\"26092fc0-dc74-4324-b6f9-3b2c46d68919\">preprocesser: ColumnTransformer</label><div class=\"sk-toggleable__content\"><pre>ColumnTransformer(transformers=[('num_transform',\n",
              "                                 Pipeline(steps=[('imputer', SimpleImputer()),\n",
              "                                                 ('scaler', StandardScaler())]),\n",
              "                                 ['onpromotion']),\n",
              "                                ('cat_transform',\n",
              "                                 OneHotEncoder(handle_unknown='ignore'),\n",
              "                                 ['family', 'store_nbr', 'day', 'month',\n",
              "                                  'dayofweek', 'year'])])</pre></div></div></div><div class=\"sk-parallel\"><div class=\"sk-parallel-item\"><div class=\"sk-item\"><div class=\"sk-label-container\"><div class=\"sk-label sk-toggleable\"><input class=\"sk-toggleable__control sk-hidden--visually\" id=\"faf6eaf7-621e-446e-ace9-44320c8ae886\" type=\"checkbox\" ><label class=\"sk-toggleable__label\" for=\"faf6eaf7-621e-446e-ace9-44320c8ae886\">num_transform</label><div class=\"sk-toggleable__content\"><pre>['onpromotion']</pre></div></div></div><div class=\"sk-serial\"><div class=\"sk-item\"><div class=\"sk-serial\"><div class=\"sk-item\"><div class=\"sk-estimator sk-toggleable\"><input class=\"sk-toggleable__control sk-hidden--visually\" id=\"619ca370-2afc-4945-abb8-b4a30d382d66\" type=\"checkbox\" ><label class=\"sk-toggleable__label\" for=\"619ca370-2afc-4945-abb8-b4a30d382d66\">SimpleImputer</label><div class=\"sk-toggleable__content\"><pre>SimpleImputer()</pre></div></div></div><div class=\"sk-item\"><div class=\"sk-estimator sk-toggleable\"><input class=\"sk-toggleable__control sk-hidden--visually\" id=\"bf4d777e-84ff-4e58-a786-05626bcb8272\" type=\"checkbox\" ><label class=\"sk-toggleable__label\" for=\"bf4d777e-84ff-4e58-a786-05626bcb8272\">StandardScaler</label><div class=\"sk-toggleable__content\"><pre>StandardScaler()</pre></div></div></div></div></div></div></div></div><div class=\"sk-parallel-item\"><div class=\"sk-item\"><div class=\"sk-label-container\"><div class=\"sk-label sk-toggleable\"><input class=\"sk-toggleable__control sk-hidden--visually\" id=\"4b75db46-a045-462b-871b-b96cb5c13964\" type=\"checkbox\" ><label class=\"sk-toggleable__label\" for=\"4b75db46-a045-462b-871b-b96cb5c13964\">cat_transform</label><div class=\"sk-toggleable__content\"><pre>['family', 'store_nbr', 'day', 'month', 'dayofweek', 'year']</pre></div></div></div><div class=\"sk-serial\"><div class=\"sk-item\"><div class=\"sk-estimator sk-toggleable\"><input class=\"sk-toggleable__control sk-hidden--visually\" id=\"b0091b47-4b13-4021-874a-f7fe04e72c73\" type=\"checkbox\" ><label class=\"sk-toggleable__label\" for=\"b0091b47-4b13-4021-874a-f7fe04e72c73\">OneHotEncoder</label><div class=\"sk-toggleable__content\"><pre>OneHotEncoder(handle_unknown='ignore')</pre></div></div></div></div></div></div></div></div><div class=\"sk-item\"><div class=\"sk-estimator sk-toggleable\"><input class=\"sk-toggleable__control sk-hidden--visually\" id=\"c891e4b6-f49d-44f7-885e-0b369010fe8a\" type=\"checkbox\" ><label class=\"sk-toggleable__label\" for=\"c891e4b6-f49d-44f7-885e-0b369010fe8a\">LGBMRegressor</label><div class=\"sk-toggleable__content\"><pre>LGBMRegressor()</pre></div></div></div></div></div></div></div>"
            ],
            "text/plain": [
              "Pipeline(steps=[('preprocesser',\n",
              "                 ColumnTransformer(transformers=[('num_transform',\n",
              "                                                  Pipeline(steps=[('imputer',\n",
              "                                                                   SimpleImputer()),\n",
              "                                                                  ('scaler',\n",
              "                                                                   StandardScaler())]),\n",
              "                                                  ['onpromotion']),\n",
              "                                                 ('cat_transform',\n",
              "                                                  OneHotEncoder(handle_unknown='ignore'),\n",
              "                                                  ['family', 'store_nbr', 'day',\n",
              "                                                   'month', 'dayofweek',\n",
              "                                                   'year'])])),\n",
              "                ('regresser', LGBMRegressor())])"
            ]
          },
          "metadata": {},
          "execution_count": 62
        }
      ],
      "metadata": {}
    },
    {
      "cell_type": "code",
      "execution_count": 63,
      "source": [
        "test_df['date'] = pd.to_datetime(test_df['date'], format=\"%Y-%m-%d %H:%M:%S\")\n",
        "test_df['day'] = test_df['date'].dt.day\n",
        "test_df['month'] = test_df['date'].dt.month\n",
        "test_df['dayofweek'] = test_df['date'].dt.dayofweek\n",
        "test_df['year'] = test_df['date'].dt.year\n"
      ],
      "outputs": [],
      "metadata": {}
    },
    {
      "cell_type": "code",
      "execution_count": 65,
      "source": [
        "X_for_submit = test_df[['store_nbr','family','onpromotion','day','month','dayofweek','year']]\n",
        "submit_data = pd.DataFrame(X_for_submit)\n",
        "submit = test_df[['id']]\n",
        "submit['sales'] = pipeline.predict(submit_data)\n",
        "submit.to_csv('submit1.csv',index=False)\n",
        "\n"
      ],
      "outputs": [],
      "metadata": {}
    },
    {
      "cell_type": "code",
      "execution_count": 115,
      "source": [
        "param_grid = [\n",
        "    {\n",
        "        \"preprocesser__num_transform__imputer__strategy\": [\"mean\", \"median\"],\n",
        "        \"preprocesser__num_transform__scaler\": [StandardScaler(), MinMaxScaler(), RobustScaler()], \n",
        "        \"preprocesser__cat_transform__encoder\": [ce.OneHotEncoder(handle_unknown='ignore')],      \n",
        "        \"regresser\": [lgb.LGBMRegressor()]\n",
        "    }\n",
        "]\n",
        "grid_search = GridSearchCV(pipeline, param_grid, cv=10, verbose=3,n_jobs=-1)\n"
      ],
      "outputs": [],
      "metadata": {}
    },
    {
      "cell_type": "code",
      "execution_count": 116,
      "source": [
        "grid_search.fit(X_train,y_train)#ここが上手くいかない"
      ],
      "outputs": [
        {
          "output_type": "stream",
          "name": "stdout",
          "text": [
            "Fitting 10 folds for each of 6 candidates, totalling 60 fits\n"
          ]
        },
        {
          "output_type": "error",
          "ename": "ValueError",
          "evalue": "Invalid parameter encoder for estimator OneHotEncoder(handle_unknown='ignore'). Check the list of available parameters with `estimator.get_params().keys()`.",
          "traceback": [
            "\u001b[0;31m---------------------------------------------------------------------------\u001b[0m",
            "\u001b[0;31mValueError\u001b[0m                                Traceback (most recent call last)",
            "\u001b[0;32m<ipython-input-116-7912bbd68fbd>\u001b[0m in \u001b[0;36m<module>\u001b[0;34m\u001b[0m\n\u001b[0;32m----> 1\u001b[0;31m \u001b[0mgrid_search\u001b[0m\u001b[0;34m.\u001b[0m\u001b[0mfit\u001b[0m\u001b[0;34m(\u001b[0m\u001b[0mX_train\u001b[0m\u001b[0;34m,\u001b[0m\u001b[0my_train\u001b[0m\u001b[0;34m)\u001b[0m\u001b[0;34m\u001b[0m\u001b[0;34m\u001b[0m\u001b[0m\n\u001b[0m",
            "\u001b[0;32m/opt/anaconda3/lib/python3.8/site-packages/sklearn/utils/validation.py\u001b[0m in \u001b[0;36minner_f\u001b[0;34m(*args, **kwargs)\u001b[0m\n\u001b[1;32m     61\u001b[0m             \u001b[0mextra_args\u001b[0m \u001b[0;34m=\u001b[0m \u001b[0mlen\u001b[0m\u001b[0;34m(\u001b[0m\u001b[0margs\u001b[0m\u001b[0;34m)\u001b[0m \u001b[0;34m-\u001b[0m \u001b[0mlen\u001b[0m\u001b[0;34m(\u001b[0m\u001b[0mall_args\u001b[0m\u001b[0;34m)\u001b[0m\u001b[0;34m\u001b[0m\u001b[0;34m\u001b[0m\u001b[0m\n\u001b[1;32m     62\u001b[0m             \u001b[0;32mif\u001b[0m \u001b[0mextra_args\u001b[0m \u001b[0;34m<=\u001b[0m \u001b[0;36m0\u001b[0m\u001b[0;34m:\u001b[0m\u001b[0;34m\u001b[0m\u001b[0;34m\u001b[0m\u001b[0m\n\u001b[0;32m---> 63\u001b[0;31m                 \u001b[0;32mreturn\u001b[0m \u001b[0mf\u001b[0m\u001b[0;34m(\u001b[0m\u001b[0;34m*\u001b[0m\u001b[0margs\u001b[0m\u001b[0;34m,\u001b[0m \u001b[0;34m**\u001b[0m\u001b[0mkwargs\u001b[0m\u001b[0;34m)\u001b[0m\u001b[0;34m\u001b[0m\u001b[0;34m\u001b[0m\u001b[0m\n\u001b[0m\u001b[1;32m     64\u001b[0m \u001b[0;34m\u001b[0m\u001b[0m\n\u001b[1;32m     65\u001b[0m             \u001b[0;31m# extra_args > 0\u001b[0m\u001b[0;34m\u001b[0m\u001b[0;34m\u001b[0m\u001b[0;34m\u001b[0m\u001b[0m\n",
            "\u001b[0;32m/opt/anaconda3/lib/python3.8/site-packages/sklearn/model_selection/_search.py\u001b[0m in \u001b[0;36mfit\u001b[0;34m(self, X, y, groups, **fit_params)\u001b[0m\n\u001b[1;32m    839\u001b[0m                 \u001b[0;32mreturn\u001b[0m \u001b[0mresults\u001b[0m\u001b[0;34m\u001b[0m\u001b[0;34m\u001b[0m\u001b[0m\n\u001b[1;32m    840\u001b[0m \u001b[0;34m\u001b[0m\u001b[0m\n\u001b[0;32m--> 841\u001b[0;31m             \u001b[0mself\u001b[0m\u001b[0;34m.\u001b[0m\u001b[0m_run_search\u001b[0m\u001b[0;34m(\u001b[0m\u001b[0mevaluate_candidates\u001b[0m\u001b[0;34m)\u001b[0m\u001b[0;34m\u001b[0m\u001b[0;34m\u001b[0m\u001b[0m\n\u001b[0m\u001b[1;32m    842\u001b[0m \u001b[0;34m\u001b[0m\u001b[0m\n\u001b[1;32m    843\u001b[0m             \u001b[0;31m# multimetric is determined here because in the case of a callable\u001b[0m\u001b[0;34m\u001b[0m\u001b[0;34m\u001b[0m\u001b[0;34m\u001b[0m\u001b[0m\n",
            "\u001b[0;32m/opt/anaconda3/lib/python3.8/site-packages/sklearn/model_selection/_search.py\u001b[0m in \u001b[0;36m_run_search\u001b[0;34m(self, evaluate_candidates)\u001b[0m\n\u001b[1;32m   1294\u001b[0m     \u001b[0;32mdef\u001b[0m \u001b[0m_run_search\u001b[0m\u001b[0;34m(\u001b[0m\u001b[0mself\u001b[0m\u001b[0;34m,\u001b[0m \u001b[0mevaluate_candidates\u001b[0m\u001b[0;34m)\u001b[0m\u001b[0;34m:\u001b[0m\u001b[0;34m\u001b[0m\u001b[0;34m\u001b[0m\u001b[0m\n\u001b[1;32m   1295\u001b[0m         \u001b[0;34m\"\"\"Search all candidates in param_grid\"\"\"\u001b[0m\u001b[0;34m\u001b[0m\u001b[0;34m\u001b[0m\u001b[0m\n\u001b[0;32m-> 1296\u001b[0;31m         \u001b[0mevaluate_candidates\u001b[0m\u001b[0;34m(\u001b[0m\u001b[0mParameterGrid\u001b[0m\u001b[0;34m(\u001b[0m\u001b[0mself\u001b[0m\u001b[0;34m.\u001b[0m\u001b[0mparam_grid\u001b[0m\u001b[0;34m)\u001b[0m\u001b[0;34m)\u001b[0m\u001b[0;34m\u001b[0m\u001b[0;34m\u001b[0m\u001b[0m\n\u001b[0m\u001b[1;32m   1297\u001b[0m \u001b[0;34m\u001b[0m\u001b[0m\n\u001b[1;32m   1298\u001b[0m \u001b[0;34m\u001b[0m\u001b[0m\n",
            "\u001b[0;32m/opt/anaconda3/lib/python3.8/site-packages/sklearn/model_selection/_search.py\u001b[0m in \u001b[0;36mevaluate_candidates\u001b[0;34m(candidate_params, cv, more_results)\u001b[0m\n\u001b[1;32m    793\u001b[0m                               n_splits, n_candidates, n_candidates * n_splits))\n\u001b[1;32m    794\u001b[0m \u001b[0;34m\u001b[0m\u001b[0m\n\u001b[0;32m--> 795\u001b[0;31m                 out = parallel(delayed(_fit_and_score)(clone(base_estimator),\n\u001b[0m\u001b[1;32m    796\u001b[0m                                                        \u001b[0mX\u001b[0m\u001b[0;34m,\u001b[0m \u001b[0my\u001b[0m\u001b[0;34m,\u001b[0m\u001b[0;34m\u001b[0m\u001b[0;34m\u001b[0m\u001b[0m\n\u001b[1;32m    797\u001b[0m                                                        \u001b[0mtrain\u001b[0m\u001b[0;34m=\u001b[0m\u001b[0mtrain\u001b[0m\u001b[0;34m,\u001b[0m \u001b[0mtest\u001b[0m\u001b[0;34m=\u001b[0m\u001b[0mtest\u001b[0m\u001b[0;34m,\u001b[0m\u001b[0;34m\u001b[0m\u001b[0;34m\u001b[0m\u001b[0m\n",
            "\u001b[0;32m/opt/anaconda3/lib/python3.8/site-packages/joblib/parallel.py\u001b[0m in \u001b[0;36m__call__\u001b[0;34m(self, iterable)\u001b[0m\n\u001b[1;32m   1052\u001b[0m \u001b[0;34m\u001b[0m\u001b[0m\n\u001b[1;32m   1053\u001b[0m             \u001b[0;32mwith\u001b[0m \u001b[0mself\u001b[0m\u001b[0;34m.\u001b[0m\u001b[0m_backend\u001b[0m\u001b[0;34m.\u001b[0m\u001b[0mretrieval_context\u001b[0m\u001b[0;34m(\u001b[0m\u001b[0;34m)\u001b[0m\u001b[0;34m:\u001b[0m\u001b[0;34m\u001b[0m\u001b[0;34m\u001b[0m\u001b[0m\n\u001b[0;32m-> 1054\u001b[0;31m                 \u001b[0mself\u001b[0m\u001b[0;34m.\u001b[0m\u001b[0mretrieve\u001b[0m\u001b[0;34m(\u001b[0m\u001b[0;34m)\u001b[0m\u001b[0;34m\u001b[0m\u001b[0;34m\u001b[0m\u001b[0m\n\u001b[0m\u001b[1;32m   1055\u001b[0m             \u001b[0;31m# Make sure that we get a last message telling us we are done\u001b[0m\u001b[0;34m\u001b[0m\u001b[0;34m\u001b[0m\u001b[0;34m\u001b[0m\u001b[0m\n\u001b[1;32m   1056\u001b[0m             \u001b[0melapsed_time\u001b[0m \u001b[0;34m=\u001b[0m \u001b[0mtime\u001b[0m\u001b[0;34m.\u001b[0m\u001b[0mtime\u001b[0m\u001b[0;34m(\u001b[0m\u001b[0;34m)\u001b[0m \u001b[0;34m-\u001b[0m \u001b[0mself\u001b[0m\u001b[0;34m.\u001b[0m\u001b[0m_start_time\u001b[0m\u001b[0;34m\u001b[0m\u001b[0;34m\u001b[0m\u001b[0m\n",
            "\u001b[0;32m/opt/anaconda3/lib/python3.8/site-packages/joblib/parallel.py\u001b[0m in \u001b[0;36mretrieve\u001b[0;34m(self)\u001b[0m\n\u001b[1;32m    931\u001b[0m             \u001b[0;32mtry\u001b[0m\u001b[0;34m:\u001b[0m\u001b[0;34m\u001b[0m\u001b[0;34m\u001b[0m\u001b[0m\n\u001b[1;32m    932\u001b[0m                 \u001b[0;32mif\u001b[0m \u001b[0mgetattr\u001b[0m\u001b[0;34m(\u001b[0m\u001b[0mself\u001b[0m\u001b[0;34m.\u001b[0m\u001b[0m_backend\u001b[0m\u001b[0;34m,\u001b[0m \u001b[0;34m'supports_timeout'\u001b[0m\u001b[0;34m,\u001b[0m \u001b[0;32mFalse\u001b[0m\u001b[0;34m)\u001b[0m\u001b[0;34m:\u001b[0m\u001b[0;34m\u001b[0m\u001b[0;34m\u001b[0m\u001b[0m\n\u001b[0;32m--> 933\u001b[0;31m                     \u001b[0mself\u001b[0m\u001b[0;34m.\u001b[0m\u001b[0m_output\u001b[0m\u001b[0;34m.\u001b[0m\u001b[0mextend\u001b[0m\u001b[0;34m(\u001b[0m\u001b[0mjob\u001b[0m\u001b[0;34m.\u001b[0m\u001b[0mget\u001b[0m\u001b[0;34m(\u001b[0m\u001b[0mtimeout\u001b[0m\u001b[0;34m=\u001b[0m\u001b[0mself\u001b[0m\u001b[0;34m.\u001b[0m\u001b[0mtimeout\u001b[0m\u001b[0;34m)\u001b[0m\u001b[0;34m)\u001b[0m\u001b[0;34m\u001b[0m\u001b[0;34m\u001b[0m\u001b[0m\n\u001b[0m\u001b[1;32m    934\u001b[0m                 \u001b[0;32melse\u001b[0m\u001b[0;34m:\u001b[0m\u001b[0;34m\u001b[0m\u001b[0;34m\u001b[0m\u001b[0m\n\u001b[1;32m    935\u001b[0m                     \u001b[0mself\u001b[0m\u001b[0;34m.\u001b[0m\u001b[0m_output\u001b[0m\u001b[0;34m.\u001b[0m\u001b[0mextend\u001b[0m\u001b[0;34m(\u001b[0m\u001b[0mjob\u001b[0m\u001b[0;34m.\u001b[0m\u001b[0mget\u001b[0m\u001b[0;34m(\u001b[0m\u001b[0;34m)\u001b[0m\u001b[0;34m)\u001b[0m\u001b[0;34m\u001b[0m\u001b[0;34m\u001b[0m\u001b[0m\n",
            "\u001b[0;32m/opt/anaconda3/lib/python3.8/site-packages/joblib/_parallel_backends.py\u001b[0m in \u001b[0;36mwrap_future_result\u001b[0;34m(future, timeout)\u001b[0m\n\u001b[1;32m    540\u001b[0m         AsyncResults.get from multiprocessing.\"\"\"\n\u001b[1;32m    541\u001b[0m         \u001b[0;32mtry\u001b[0m\u001b[0;34m:\u001b[0m\u001b[0;34m\u001b[0m\u001b[0;34m\u001b[0m\u001b[0m\n\u001b[0;32m--> 542\u001b[0;31m             \u001b[0;32mreturn\u001b[0m \u001b[0mfuture\u001b[0m\u001b[0;34m.\u001b[0m\u001b[0mresult\u001b[0m\u001b[0;34m(\u001b[0m\u001b[0mtimeout\u001b[0m\u001b[0;34m=\u001b[0m\u001b[0mtimeout\u001b[0m\u001b[0;34m)\u001b[0m\u001b[0;34m\u001b[0m\u001b[0;34m\u001b[0m\u001b[0m\n\u001b[0m\u001b[1;32m    543\u001b[0m         \u001b[0;32mexcept\u001b[0m \u001b[0mCfTimeoutError\u001b[0m \u001b[0;32mas\u001b[0m \u001b[0me\u001b[0m\u001b[0;34m:\u001b[0m\u001b[0;34m\u001b[0m\u001b[0;34m\u001b[0m\u001b[0m\n\u001b[1;32m    544\u001b[0m             \u001b[0;32mraise\u001b[0m \u001b[0mTimeoutError\u001b[0m \u001b[0;32mfrom\u001b[0m \u001b[0me\u001b[0m\u001b[0;34m\u001b[0m\u001b[0;34m\u001b[0m\u001b[0m\n",
            "\u001b[0;32m/opt/anaconda3/lib/python3.8/concurrent/futures/_base.py\u001b[0m in \u001b[0;36mresult\u001b[0;34m(self, timeout)\u001b[0m\n\u001b[1;32m    437\u001b[0m                 \u001b[0;32mraise\u001b[0m \u001b[0mCancelledError\u001b[0m\u001b[0;34m(\u001b[0m\u001b[0;34m)\u001b[0m\u001b[0;34m\u001b[0m\u001b[0;34m\u001b[0m\u001b[0m\n\u001b[1;32m    438\u001b[0m             \u001b[0;32melif\u001b[0m \u001b[0mself\u001b[0m\u001b[0;34m.\u001b[0m\u001b[0m_state\u001b[0m \u001b[0;34m==\u001b[0m \u001b[0mFINISHED\u001b[0m\u001b[0;34m:\u001b[0m\u001b[0;34m\u001b[0m\u001b[0;34m\u001b[0m\u001b[0m\n\u001b[0;32m--> 439\u001b[0;31m                 \u001b[0;32mreturn\u001b[0m \u001b[0mself\u001b[0m\u001b[0;34m.\u001b[0m\u001b[0m__get_result\u001b[0m\u001b[0;34m(\u001b[0m\u001b[0;34m)\u001b[0m\u001b[0;34m\u001b[0m\u001b[0;34m\u001b[0m\u001b[0m\n\u001b[0m\u001b[1;32m    440\u001b[0m             \u001b[0;32melse\u001b[0m\u001b[0;34m:\u001b[0m\u001b[0;34m\u001b[0m\u001b[0;34m\u001b[0m\u001b[0m\n\u001b[1;32m    441\u001b[0m                 \u001b[0;32mraise\u001b[0m \u001b[0mTimeoutError\u001b[0m\u001b[0;34m(\u001b[0m\u001b[0;34m)\u001b[0m\u001b[0;34m\u001b[0m\u001b[0;34m\u001b[0m\u001b[0m\n",
            "\u001b[0;32m/opt/anaconda3/lib/python3.8/concurrent/futures/_base.py\u001b[0m in \u001b[0;36m__get_result\u001b[0;34m(self)\u001b[0m\n\u001b[1;32m    386\u001b[0m     \u001b[0;32mdef\u001b[0m \u001b[0m__get_result\u001b[0m\u001b[0;34m(\u001b[0m\u001b[0mself\u001b[0m\u001b[0;34m)\u001b[0m\u001b[0;34m:\u001b[0m\u001b[0;34m\u001b[0m\u001b[0;34m\u001b[0m\u001b[0m\n\u001b[1;32m    387\u001b[0m         \u001b[0;32mif\u001b[0m \u001b[0mself\u001b[0m\u001b[0;34m.\u001b[0m\u001b[0m_exception\u001b[0m\u001b[0;34m:\u001b[0m\u001b[0;34m\u001b[0m\u001b[0;34m\u001b[0m\u001b[0m\n\u001b[0;32m--> 388\u001b[0;31m             \u001b[0;32mraise\u001b[0m \u001b[0mself\u001b[0m\u001b[0;34m.\u001b[0m\u001b[0m_exception\u001b[0m\u001b[0;34m\u001b[0m\u001b[0;34m\u001b[0m\u001b[0m\n\u001b[0m\u001b[1;32m    389\u001b[0m         \u001b[0;32melse\u001b[0m\u001b[0;34m:\u001b[0m\u001b[0;34m\u001b[0m\u001b[0;34m\u001b[0m\u001b[0m\n\u001b[1;32m    390\u001b[0m             \u001b[0;32mreturn\u001b[0m \u001b[0mself\u001b[0m\u001b[0;34m.\u001b[0m\u001b[0m_result\u001b[0m\u001b[0;34m\u001b[0m\u001b[0;34m\u001b[0m\u001b[0m\n",
            "\u001b[0;31mValueError\u001b[0m: Invalid parameter encoder for estimator OneHotEncoder(handle_unknown='ignore'). Check the list of available parameters with `estimator.get_params().keys()`."
          ]
        }
      ],
      "metadata": {}
    },
    {
      "cell_type": "code",
      "execution_count": null,
      "source": [
        "params = {\n",
        "    'silent': 1,\n",
        "    'max_depth': 6,\n",
        "    'min_child_weight': 1,\n",
        "    'eta': 0.1,\n",
        "    'tree_method': 'exact',\n",
        "    'objective': 'reg:linear',\n",
        "    'eval_metric': 'rmse',\n",
        "    'predictor': 'cpu_predictor'\n",
        "}\n",
        "dtrain = xgb.DMatrix(X_train,label=y_train)\n",
        "dtest = xgb.DMatrix(X_test,label=y_test)\n",
        "model = xgb.train(params=params,\n",
        "                  dtrain=dtrain,\n",
        "                  num_boost_round=1000,\n",
        "                  early_stopping_rounds=5,\n",
        "                  evals=[(dtest, 'test')])"
      ],
      "outputs": [],
      "metadata": {
        "colab": {
          "base_uri": "https://localhost:8080/"
        },
        "id": "Jfp-JEXoqs-W",
        "outputId": "e5dfb28e-88ee-4731-9982-329304ed498e"
      }
    },
    {
      "cell_type": "code",
      "execution_count": null,
      "source": [
        "pred = model.predict(xgb.DMatrix(X_test),\n",
        "                     ntree_limit=model.best_ntree_limit)"
      ],
      "outputs": [],
      "metadata": {
        "id": "BBJJ53DXeJN3"
      }
    },
    {
      "cell_type": "code",
      "execution_count": null,
      "source": [
        "plt.figure(figsize=(12, 12))\n",
        "plt.scatter(y_test[:1000], pred[:1000])\n",
        "plt.show()"
      ],
      "outputs": [],
      "metadata": {
        "colab": {
          "base_uri": "https://localhost:8080/",
          "height": 700
        },
        "id": "FP4cj9Xxe1v0",
        "outputId": "03af5755-66df-479b-b18c-53523cde9abd"
      }
    },
    {
      "cell_type": "code",
      "execution_count": null,
      "source": [
        "X_for_submit = df_test[['store_nbr','family','onpromotion','day','month','dayofweek','year']]\n",
        "submit = df_test[['id']]\n",
        "submit['sales'] = model.predict(xgb.DMatrix(X_for_submit),\n",
        "                     ntree_limit=model.best_ntree_limit)\n",
        "submit"
      ],
      "outputs": [],
      "metadata": {
        "colab": {
          "base_uri": "https://localhost:8080/",
          "height": 521
        },
        "id": "CALTFA3XsGEb",
        "outputId": "33d7d71b-eaf7-4a34-ef8a-ed81aac00f7d"
      }
    },
    {
      "cell_type": "code",
      "execution_count": null,
      "source": [
        "submit.to_csv('/content/drive/MyDrive/sales/submit.csv',index=False)"
      ],
      "outputs": [],
      "metadata": {
        "id": "S8i1BSItvpwE"
      }
    }
  ]
}